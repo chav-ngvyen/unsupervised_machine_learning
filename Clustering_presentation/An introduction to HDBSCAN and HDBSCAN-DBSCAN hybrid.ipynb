{
 "cells": [
  {
   "cell_type": "markdown",
   "id": "8b05f699",
   "metadata": {},
   "source": [
    "# Brief overview of Clustering Analysis"
   ]
  },
  {
   "cell_type": "markdown",
   "id": "57e5cb25",
   "metadata": {},
   "source": [
    "Clustering analysis refers to machine learning algorithms used to group sets of objects into sets of clusters. Objects grouped together into a cluster are similar or related to other objects in the same cluster, or dissimilar and unrelated to objects in other groups. \n",
    "\n",
    "Clustering analysis can be thought of a classification technique - that is, it gives clustered data labels. However, because the labels is derived from the data itself, it is an **unsupervised learning** technique - as there is no outcome (labeled data) to compared the clusters to.\n",
    "\n",
    "Popular clustering algorithms include:\n",
    "\n",
    "1) K-means: Prototype-based clustering techniques create a one-level partitioning of the data objects. \n",
    "\n",
    "2) Hierarchical Clustering: Two basic approaches for generating a hierarchical clustering:\n",
    "\n",
    "* **Agglomerative:** Start with the points as individual clusters and, at each step, merge the closest pair of clusters. \n",
    "\n",
    "* **Divisive:** Start with one, all-inclusive cluster and, at each step, split a cluster until only singleton clusters of individual points remain. \n",
    "\n",
    "3) DBSCAN: Density-based clustering technique that determines clusters through locating regions of high density that are separated from one another by regions of low density.\n",
    "\n",
    "For more in-depth understanding of the aforementioned clustering methods, I highly recommend chapter 7 of the book \"Introduction to Data Mining\" by Pang-Ning Tan, Michael Steinbach, Anuj Karpatne, and Vipin Kumar [1]. \n",
    "\n",
    "The following blog posts are also great resources: [The Most Comprehensive Guide to K-Means Clustering You’ll Ever Need](https://www.analyticsvidhya.com/blog/2019/08/comprehensive-guide-k-means-clustering/) [2], [What is Hierarchical Clustering?](https://www.kdnuggets.com/2019/09/hierarchical-clustering.html) [3], [DBSCAN Clustering Explained](https://towardsdatascience.com/dbscan-clustering-explained-97556a2ad556) [4].\n",
    "\n",
    "\n",
    "In this post, I will introduce 2 new clustering algorithms: Hierarchical DBSCAN - HDBSCAN*, an extension of the original DBSCAN, and a hybdrid combination of HDBSCAN and DBSCAN. To understand these 2 techniques, I will draw on the references mentioned above"
   ]
  },
  {
   "cell_type": "markdown",
   "id": "83fc6735",
   "metadata": {},
   "source": [
    "# References\n",
    "\n",
    "[1]:  Tan, P.-N., Steinbach, M.,, Kumar, V. (2005). Introduction to Data Mining. Addison Wesley. ISBN: 0321321367 \n",
    "\n",
    "[2]: \"DBSCAN Clustering Explained\" - Soner Yıldırım https://towardsdatascience.com/dbscan-clustering-explained-97556a2ad556 \n",
    "\n",
    "[3]"
   ]
  },
  {
   "cell_type": "code",
   "execution_count": null,
   "id": "67a55ca7",
   "metadata": {},
   "outputs": [],
   "source": []
  }
 ],
 "metadata": {
  "kernelspec": {
   "display_name": "Python 3 (ipykernel)",
   "language": "python",
   "name": "python3"
  },
  "language_info": {
   "codemirror_mode": {
    "name": "ipython",
    "version": 3
   },
   "file_extension": ".py",
   "mimetype": "text/x-python",
   "name": "python",
   "nbconvert_exporter": "python",
   "pygments_lexer": "ipython3",
   "version": "3.8.12"
  }
 },
 "nbformat": 4,
 "nbformat_minor": 5
}
